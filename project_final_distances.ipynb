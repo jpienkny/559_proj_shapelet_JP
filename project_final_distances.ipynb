{
 "cells": [
  {
   "cell_type": "code",
   "execution_count": 2,
   "id": "03e0a1dc",
   "metadata": {},
   "outputs": [
    {
     "name": "stderr",
     "output_type": "stream",
     "text": [
      "C:\\Users\\jpienkny\\AppData\\Local\\anaconda3\\Lib\\site-packages\\paramiko\\transport.py:219: CryptographyDeprecationWarning: Blowfish has been deprecated\n",
      "  \"class\": algorithms.Blowfish,\n"
     ]
    }
   ],
   "source": [
    "from ksvd import ksvd\n",
    "import numpy as np\n",
    "import scipy.io as scio\n",
    "import tqdm\n",
    "import pandas as pd\n",
    "import matplotlib.pyplot as plt\n",
    "import os\n",
    "import skimage"
   ]
  },
  {
   "cell_type": "code",
   "execution_count": 32,
   "id": "6978645a",
   "metadata": {},
   "outputs": [],
   "source": [
    "HR_Distance = np.genfromtxt(\"HR_Distances.csv\", delimiter=\",\")\n",
    "EDA_Distance = np.genfromtxt(\"EDA_Distances.csv\", delimiter=\",\")\n",
    "\n",
    "HR_Distance_Windows_extract = np.genfromtxt(\"HR_Distances_Windows.csv\", delimiter=\",\")\n",
    "EDA_Distance_Windows_extract = np.genfromtxt(\"EDA_Distances_Windows.csv\", delimiter=\",\")\n",
    "HR_Distance_Windows = np.empty((15,73,73))\n",
    "EDA_Distance_Windows = np.empty((15,73,73))\n",
    "\n",
    "\n",
    "\n",
    "HR_Full_Laplace = np.empty(HR_Distance.shape)\n",
    "EDA_Full_Laplace = np.empty(EDA_Distance.shape)\n",
    "HR_Windows_Laplace = np.empty((15,73,73))\n",
    "EDA_Windows_Laplace = np.empty((15,73,73))\n",
    "\n",
    "\n",
    "for i in range(15):\n",
    "    HR_Distance_Windows[i,:,:] = HR_Distance_Windows_extract[:,73*i:73*(i+1)]\n",
    "    EDA_Distance_Windows[i,:,:] = EDA_Distance_Windows_extract[:,73*i:73*(i+1)]\n",
    "    \n",
    "    "
   ]
  },
  {
   "cell_type": "code",
   "execution_count": 31,
   "id": "c750e08e",
   "metadata": {},
   "outputs": [],
   "source": [
    "def distance_laplace(distance_mat, scale_up=1, smooth_out=1):\n",
    "    # Attempt of a function w/ hyperparameters scale up and smooth out, elementwise scale_up / (x^2 + smooth_down), t\n",
    "    #take reciprocal of distances to convert low distances -> higher numbers and vice versa to try and encourage learning the\n",
    "    # smallest distance values. \n",
    "    # Inspired by CID metric\n",
    "    \n",
    "    if smooth_out < 0:\n",
    "        raise ValueError(\"Smooth Out Can't Be Negative\")\n",
    "        \n",
    "    if scale_up < 0:\n",
    "        raise ValueError(\"Smooth Out Can't Be Negative\")\n",
    "    \n",
    "    dist_mat =  scale_up * np.exp(-1 * distance_mat / smooth_out) # Laplace Distribution \n",
    "    np.fill_diagonal(dist_mat, 0) # Want diagonal to equal 0 so we try not to learn the diagonal\n",
    "    \n",
    "    \n",
    "    \n",
    "    return dist_mat"
   ]
  },
  {
   "cell_type": "code",
   "execution_count": 27,
   "id": "0dc6318f",
   "metadata": {},
   "outputs": [],
   "source": []
  },
  {
   "cell_type": "code",
   "execution_count": 28,
   "id": "87409450",
   "metadata": {},
   "outputs": [],
   "source": []
  },
  {
   "cell_type": "code",
   "execution_count": null,
   "id": "41731b62",
   "metadata": {},
   "outputs": [],
   "source": []
  }
 ],
 "metadata": {
  "kernelspec": {
   "display_name": "Python 3 (ipykernel)",
   "language": "python",
   "name": "python3"
  },
  "language_info": {
   "codemirror_mode": {
    "name": "ipython",
    "version": 3
   },
   "file_extension": ".py",
   "mimetype": "text/x-python",
   "name": "python",
   "nbconvert_exporter": "python",
   "pygments_lexer": "ipython3",
   "version": "3.11.5"
  }
 },
 "nbformat": 4,
 "nbformat_minor": 5
}
