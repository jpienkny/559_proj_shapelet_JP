{
 "cells": [
  {
   "cell_type": "code",
   "execution_count": 9,
   "id": "5404c7dc",
   "metadata": {},
   "outputs": [],
   "source": [
    "import numpy as np\n",
    "import scipy.io as scio\n",
    "import tqdm\n",
    "import pandas as pd\n",
    "import matplotlib.pyplot as plt\n",
    "import os\n",
    "import skimage\n",
    "import csv"
   ]
  },
  {
   "cell_type": "code",
   "execution_count": 3,
   "id": "f13fa6e3",
   "metadata": {},
   "outputs": [],
   "source": [
    "hr_df  = pd.read_csv('HR_FullTimeSeries.csv')\n",
    "hr_data = hr_df.drop(['Subject', 'FinalMS', '1350'], axis=1).to_numpy()\n",
    "\n",
    "eda_df  = pd.read_csv('EDA_FullTimeSeries.csv')\n",
    "eda_data = eda_df.drop(['Subject', 'FinalMS', '1350'], axis=1).to_numpy()\n",
    "\n",
    "\n",
    "num_subjects = hr_data.shape[0]\n",
    "length = hr_data.shape[1]\n",
    "\n",
    "num_subjects = hr_data.shape[0]\n",
    "length = hr_data.shape[1]\n",
    "\n",
    "hr_data_normalized = np.divide(hr_data - np.mean(hr_data, axis=1, keepdims=True), np.std(hr_data, axis=1, keepdims=True))\n",
    "eda_data_normalized = np.divide(eda_data - np.mean(eda_data, axis=1, keepdims=True), np.std(eda_data, axis=1, keepdims=True))"
   ]
  },
  {
   "cell_type": "code",
   "execution_count": 8,
   "id": "f75bdb52",
   "metadata": {},
   "outputs": [],
   "source": [
    "full_time_distances_hr = np.empty((num_subjects, num_subjects))\n",
    "full_time_distances_eda = np.empty((num_subjects, num_subjects))\n",
    "\n",
    "for i in range(num_subjects): # Set diagonals to zero\n",
    "    for j in range(num_subjects):\n",
    "        full_time_distances_hr[i,j] = 1/length * np.linalg.norm(hr_data_normalized[i,:] - hr_data_normalized[j,:], ord=2) ** 2\n",
    "        full_time_distances_eda[i,j] = 1/length * np.linalg.norm(eda_data_normalized[i,:] - eda_data_normalized[j,:], ord=2) ** 2\n",
    "    "
   ]
  },
  {
   "cell_type": "code",
   "execution_count": 11,
   "id": "adcf71a1",
   "metadata": {},
   "outputs": [],
   "source": [
    "np.savetxt(\"HR_Distances.csv\", full_time_distances_hr, delimiter=\",\")\n",
    "np.savetxt(\"EDA_Distances.csv\", full_time_distances_hr, delimiter=\",\")"
   ]
  },
  {
   "cell_type": "code",
   "execution_count": 42,
   "id": "bba99a80",
   "metadata": {},
   "outputs": [],
   "source": [
    "hr_blocks = np.squeeze(skimage.util.view_as_blocks(hr_data_normalized, block_shape = (num_subjects, 90)))\n",
    "eda_blocks = np.squeeze(skimage.util.view_as_blocks(eda_data, block_shape = (num_subjects, 90)) )\n",
    "\n",
    "block_distances_hr = np.empty((15,73,73))\n",
    "block_distances_eda = np.empty((15,73,73))\n",
    "\n",
    "out_hr = np.array([])\n",
    "out_eda = np.array([])\n",
    "for block in range(15):\n",
    "    for i in range(num_subjects): # Set diagonals to zero\n",
    "        for j in range(num_subjects):\n",
    "    \n",
    "            block_distances_hr[block,i,j] = 1/90 * np.linalg.norm(hr_blocks[block, i, :] - hr_blocks[block, j, :], ord = 2) ** 2\n",
    "            block_distances_eda[block,i,j] = 1/90 * np.linalg.norm(eda_blocks[block, i, :] - eda_blocks[block, j, :], ord = 2) ** 2\n",
    "    out_hr = np.hstack((out_hr,block_distances_hr[block,:,:])) if out_hr.size else block_distances_hr[block,:,:]\n",
    "    out_eda = np.hstack((out_eda,block_distances_eda[block,:,:])) if out_eda.size else block_distances_eda[block,:,:]"
   ]
  },
  {
   "cell_type": "code",
   "execution_count": 28,
   "id": "773c3379",
   "metadata": {},
   "outputs": [
    {
     "data": {
      "text/plain": [
       "array([[0.        , 0.15182555, 0.20487959, ..., 0.5879311 , 0.29284925,\n",
       "        0.52722303],\n",
       "       [0.15182555, 0.        , 0.09535523, ..., 1.1418006 , 0.28315367,\n",
       "        0.20502499],\n",
       "       [0.20487959, 0.09535523, 0.        , ..., 1.10419533, 0.08487368,\n",
       "        0.5200417 ],\n",
       "       ...,\n",
       "       [0.5879311 , 1.1418006 , 1.10419533, ..., 0.        , 0.83114768,\n",
       "        2.0228976 ],\n",
       "       [0.29284925, 0.28315367, 0.08487368, ..., 0.83114768, 0.        ,\n",
       "        0.94743311],\n",
       "       [0.52722303, 0.20502499, 0.5200417 , ..., 2.0228976 , 0.94743311,\n",
       "        0.        ]])"
      ]
     },
     "execution_count": 28,
     "metadata": {},
     "output_type": "execute_result"
    }
   ],
   "source": [
    "block_distances_hr[0,:,:]"
   ]
  },
  {
   "cell_type": "code",
   "execution_count": 43,
   "id": "bd0c201b",
   "metadata": {},
   "outputs": [
    {
     "data": {
      "text/plain": [
       "(73, 1095)"
      ]
     },
     "execution_count": 43,
     "metadata": {},
     "output_type": "execute_result"
    }
   ],
   "source": [
    "out_eda.shape"
   ]
  },
  {
   "cell_type": "code",
   "execution_count": 44,
   "id": "90cde985",
   "metadata": {},
   "outputs": [],
   "source": [
    "np.savetxt(\"HR_Distances_Windows.csv\", out_hr, delimiter=\",\")\n",
    "np.savetxt(\"EDA_Distances_Windows.csv\", out_eda, delimiter=\",\")"
   ]
  },
  {
   "cell_type": "code",
   "execution_count": null,
   "id": "cf192169",
   "metadata": {},
   "outputs": [],
   "source": []
  }
 ],
 "metadata": {
  "kernelspec": {
   "display_name": "Python 3 (ipykernel)",
   "language": "python",
   "name": "python3"
  },
  "language_info": {
   "codemirror_mode": {
    "name": "ipython",
    "version": 3
   },
   "file_extension": ".py",
   "mimetype": "text/x-python",
   "name": "python",
   "nbconvert_exporter": "python",
   "pygments_lexer": "ipython3",
   "version": "3.11.5"
  }
 },
 "nbformat": 4,
 "nbformat_minor": 5
}
